{
 "cells": [
  {
   "cell_type": "markdown",
   "id": "6f53d8b6-ae43-4f80-8288-c873a5f62f2d",
   "metadata": {},
   "source": [
    "# This project is a sample poc for trade surveillance\n",
    "(with single rule)"
   ]
  },
  {
   "cell_type": "markdown",
   "id": "60768c6c-96f0-4879-ba6f-e20cdaa31748",
   "metadata": {},
   "source": [
    "### read sample trade data"
   ]
  },
  {
   "cell_type": "code",
   "execution_count": 83,
   "id": "98ad04cf-ba31-469f-8dcf-26f7b1fd287b",
   "metadata": {},
   "outputs": [],
   "source": [
    "trade_data = \"\"\"timestamp,order_id,trader_id,symbol,side,price,quantity,status\n",
    "2024-06-03 10:00:00,1,TR123,AAPL,buy,185.0,100,placed\n",
    "2024-06-03 10:00:01,2,TR123,AAPL,buy,185.0,100,canceled\n",
    "2024-06-03 10:00:02,3,TR123,AAPL,buy,185.1,200,placed\n",
    "2024-06-03 10:00:03,4,TR123,AAPL,buy,185.1,200,canceled\n",
    "2024-06-03 10:00:04,5,TR123,AAPL,buy,185.2,300,placed\n",
    "2024-06-03 10:00:05,6,TR123,AAPL,buy,185.2,300,canceled\n",
    "2024-06-03 10:00:06,7,TR999,GOOG,sell,2500.0,50,placed\n",
    "2024-06-03 10:00:07,8,TR999,GOOG,sell,2500.0,50,executed\"\"\""
   ]
  },
  {
   "cell_type": "code",
   "execution_count": 84,
   "id": "b56f7a8d-9444-4215-930d-41888b28d63c",
   "metadata": {},
   "outputs": [],
   "source": [
    "with open('trade_data.csv', 'w') as f:\n",
    "    f.write(trade_data)"
   ]
  },
  {
   "cell_type": "code",
   "execution_count": 85,
   "id": "a9219092-acd4-4a40-98b8-3bc222993a37",
   "metadata": {},
   "outputs": [],
   "source": [
    "import numpy as np\n",
    "import pandas as pd"
   ]
  },
  {
   "cell_type": "code",
   "execution_count": 86,
   "id": "e1bd0019-3c6b-45e8-ad3e-c3c7d0b3ebc9",
   "metadata": {},
   "outputs": [],
   "source": [
    "trade_data = pd.read_csv('trade_data.csv')"
   ]
  },
  {
   "cell_type": "code",
   "execution_count": 87,
   "id": "dc07e8b7-12c4-4863-9df1-b9a342cfd003",
   "metadata": {},
   "outputs": [
    {
     "data": {
      "text/html": [
       "<div>\n",
       "<style scoped>\n",
       "    .dataframe tbody tr th:only-of-type {\n",
       "        vertical-align: middle;\n",
       "    }\n",
       "\n",
       "    .dataframe tbody tr th {\n",
       "        vertical-align: top;\n",
       "    }\n",
       "\n",
       "    .dataframe thead th {\n",
       "        text-align: right;\n",
       "    }\n",
       "</style>\n",
       "<table border=\"1\" class=\"dataframe\">\n",
       "  <thead>\n",
       "    <tr style=\"text-align: right;\">\n",
       "      <th></th>\n",
       "      <th>timestamp</th>\n",
       "      <th>order_id</th>\n",
       "      <th>trader_id</th>\n",
       "      <th>symbol</th>\n",
       "      <th>side</th>\n",
       "      <th>price</th>\n",
       "      <th>quantity</th>\n",
       "      <th>status</th>\n",
       "    </tr>\n",
       "  </thead>\n",
       "  <tbody>\n",
       "    <tr>\n",
       "      <th>0</th>\n",
       "      <td>2024-06-03 10:00:00</td>\n",
       "      <td>1</td>\n",
       "      <td>TR123</td>\n",
       "      <td>AAPL</td>\n",
       "      <td>buy</td>\n",
       "      <td>185.0</td>\n",
       "      <td>100</td>\n",
       "      <td>placed</td>\n",
       "    </tr>\n",
       "    <tr>\n",
       "      <th>1</th>\n",
       "      <td>2024-06-03 10:00:01</td>\n",
       "      <td>2</td>\n",
       "      <td>TR123</td>\n",
       "      <td>AAPL</td>\n",
       "      <td>buy</td>\n",
       "      <td>185.0</td>\n",
       "      <td>100</td>\n",
       "      <td>canceled</td>\n",
       "    </tr>\n",
       "    <tr>\n",
       "      <th>2</th>\n",
       "      <td>2024-06-03 10:00:02</td>\n",
       "      <td>3</td>\n",
       "      <td>TR123</td>\n",
       "      <td>AAPL</td>\n",
       "      <td>buy</td>\n",
       "      <td>185.1</td>\n",
       "      <td>200</td>\n",
       "      <td>placed</td>\n",
       "    </tr>\n",
       "    <tr>\n",
       "      <th>3</th>\n",
       "      <td>2024-06-03 10:00:03</td>\n",
       "      <td>4</td>\n",
       "      <td>TR123</td>\n",
       "      <td>AAPL</td>\n",
       "      <td>buy</td>\n",
       "      <td>185.1</td>\n",
       "      <td>200</td>\n",
       "      <td>canceled</td>\n",
       "    </tr>\n",
       "    <tr>\n",
       "      <th>4</th>\n",
       "      <td>2024-06-03 10:00:04</td>\n",
       "      <td>5</td>\n",
       "      <td>TR123</td>\n",
       "      <td>AAPL</td>\n",
       "      <td>buy</td>\n",
       "      <td>185.2</td>\n",
       "      <td>300</td>\n",
       "      <td>placed</td>\n",
       "    </tr>\n",
       "    <tr>\n",
       "      <th>5</th>\n",
       "      <td>2024-06-03 10:00:05</td>\n",
       "      <td>6</td>\n",
       "      <td>TR123</td>\n",
       "      <td>AAPL</td>\n",
       "      <td>buy</td>\n",
       "      <td>185.2</td>\n",
       "      <td>300</td>\n",
       "      <td>canceled</td>\n",
       "    </tr>\n",
       "    <tr>\n",
       "      <th>6</th>\n",
       "      <td>2024-06-03 10:00:06</td>\n",
       "      <td>7</td>\n",
       "      <td>TR999</td>\n",
       "      <td>GOOG</td>\n",
       "      <td>sell</td>\n",
       "      <td>2500.0</td>\n",
       "      <td>50</td>\n",
       "      <td>placed</td>\n",
       "    </tr>\n",
       "    <tr>\n",
       "      <th>7</th>\n",
       "      <td>2024-06-03 10:00:07</td>\n",
       "      <td>8</td>\n",
       "      <td>TR999</td>\n",
       "      <td>GOOG</td>\n",
       "      <td>sell</td>\n",
       "      <td>2500.0</td>\n",
       "      <td>50</td>\n",
       "      <td>executed</td>\n",
       "    </tr>\n",
       "  </tbody>\n",
       "</table>\n",
       "</div>"
      ],
      "text/plain": [
       "             timestamp  order_id trader_id symbol  side   price  quantity  \\\n",
       "0  2024-06-03 10:00:00         1     TR123   AAPL   buy   185.0       100   \n",
       "1  2024-06-03 10:00:01         2     TR123   AAPL   buy   185.0       100   \n",
       "2  2024-06-03 10:00:02         3     TR123   AAPL   buy   185.1       200   \n",
       "3  2024-06-03 10:00:03         4     TR123   AAPL   buy   185.1       200   \n",
       "4  2024-06-03 10:00:04         5     TR123   AAPL   buy   185.2       300   \n",
       "5  2024-06-03 10:00:05         6     TR123   AAPL   buy   185.2       300   \n",
       "6  2024-06-03 10:00:06         7     TR999   GOOG  sell  2500.0        50   \n",
       "7  2024-06-03 10:00:07         8     TR999   GOOG  sell  2500.0        50   \n",
       "\n",
       "     status  \n",
       "0    placed  \n",
       "1  canceled  \n",
       "2    placed  \n",
       "3  canceled  \n",
       "4    placed  \n",
       "5  canceled  \n",
       "6    placed  \n",
       "7  executed  "
      ]
     },
     "execution_count": 87,
     "metadata": {},
     "output_type": "execute_result"
    }
   ],
   "source": [
    "trade_data"
   ]
  },
  {
   "cell_type": "code",
   "execution_count": 88,
   "id": "b401731c-bbc7-491c-8a5b-40566a0deaa4",
   "metadata": {},
   "outputs": [
    {
     "data": {
      "text/plain": [
       "timestamp     object\n",
       "order_id       int64\n",
       "trader_id     object\n",
       "symbol        object\n",
       "side          object\n",
       "price        float64\n",
       "quantity       int64\n",
       "status        object\n",
       "dtype: object"
      ]
     },
     "execution_count": 88,
     "metadata": {},
     "output_type": "execute_result"
    }
   ],
   "source": [
    "trade_data.dtypes"
   ]
  },
  {
   "cell_type": "markdown",
   "id": "4e3a3f68-7ef3-4c2e-a2f5-7d1d47168402",
   "metadata": {},
   "source": [
    "### logic to identify spoofing"
   ]
  },
  {
   "cell_type": "markdown",
   "id": "6dbcb1fc-c1b0-4bf5-a4b3-0fe885969180",
   "metadata": {},
   "source": [
    "possible spoofing detected -> when a particular trader places and cancels too many orders in short time<br>\n",
    "in above table looks like trader TR123 has placed and cancelled multiple orders within just few seconds<br>\n",
    "that makes his transactions concerning and spoofing alert is triggerred"
   ]
  },
  {
   "cell_type": "code",
   "execution_count": 89,
   "id": "d412dbe6-d305-4f51-9972-2230eefd5789",
   "metadata": {},
   "outputs": [],
   "source": [
    "grouped_df = trade_data.groupby('trader_id')"
   ]
  },
  {
   "cell_type": "code",
   "execution_count": 90,
   "id": "159a5a60-f2ab-416e-aaea-50bbbfcd65f7",
   "metadata": {},
   "outputs": [],
   "source": [
    "min_orders = 5\n",
    "cancel_threshold = 0.4"
   ]
  },
  {
   "cell_type": "code",
   "execution_count": 91,
   "id": "5f81f5fb-0e31-4a82-8f0f-144a7706469c",
   "metadata": {},
   "outputs": [],
   "source": [
    "alerts = []"
   ]
  },
  {
   "cell_type": "code",
   "execution_count": 92,
   "id": "da5bb24b-2edb-42c7-a0d2-438f83276ae1",
   "metadata": {},
   "outputs": [],
   "source": [
    "for trader_id, group in grouped_df:\n",
    "    total_orders = len(group)\n",
    "    canceled_orders = len(group[group[\"status\"] == \"canceled\"])\n",
    "    if total_orders >= min_orders and (canceled_orders / total_orders) > cancel_threshold:\n",
    "        alerts.append({\n",
    "            \"trader_id\": trader_id,\n",
    "            \"alert_type\": \"spoofing detected\",\n",
    "            \"total_orders\": total_orders,\n",
    "            \"canceled_orders\": canceled_orders,\n",
    "            \"cancel_ratio\": round(canceled_orders / total_orders, 2)\n",
    "        })"
   ]
  },
  {
   "cell_type": "code",
   "execution_count": 93,
   "id": "46a8f221-f32b-4c46-8e9a-624524d140f5",
   "metadata": {},
   "outputs": [
    {
     "data": {
      "text/plain": [
       "[{'trader_id': 'TR123',\n",
       "  'alert_type': 'spoofing detected',\n",
       "  'total_orders': 6,\n",
       "  'canceled_orders': 3,\n",
       "  'cancel_ratio': 0.5}]"
      ]
     },
     "execution_count": 93,
     "metadata": {},
     "output_type": "execute_result"
    }
   ],
   "source": [
    "alerts"
   ]
  },
  {
   "cell_type": "markdown",
   "id": "c92e1679-8d80-4340-802c-013a97b485f9",
   "metadata": {},
   "source": [
    "### package everything inside function"
   ]
  },
  {
   "cell_type": "code",
   "execution_count": 94,
   "id": "1d9274ed-90a9-4030-b3d0-626d573de8d2",
   "metadata": {},
   "outputs": [],
   "source": [
    "def detect_spoofing(df, min_orders=5, cancel_threshold=0.4):\n",
    "    alerts = []\n",
    "    for trader_id, group in grouped_df:\n",
    "        total_orders = len(group)\n",
    "        canceled_orders = len(group[group[\"status\"] == \"canceled\"])\n",
    "        if total_orders >= min_orders and (canceled_orders / total_orders) > cancel_threshold:\n",
    "            alerts.append({\n",
    "                \"trader_id\": trader_id,\n",
    "                \"alert_type\": \"spoofing detected\",\n",
    "                \"total_orders\": total_orders,\n",
    "                \"canceled_orders\": canceled_orders,\n",
    "                \"cancel_ratio\": round(canceled_orders / total_orders, 2)\n",
    "            })\n",
    "    return alerts"
   ]
  },
  {
   "cell_type": "code",
   "execution_count": 95,
   "id": "50cb1c82-4823-4d31-b66b-345fb8f2c125",
   "metadata": {},
   "outputs": [
    {
     "data": {
      "text/plain": [
       "[{'trader_id': 'TR123',\n",
       "  'alert_type': 'spoofing detected',\n",
       "  'total_orders': 6,\n",
       "  'canceled_orders': 3,\n",
       "  'cancel_ratio': 0.5}]"
      ]
     },
     "execution_count": 95,
     "metadata": {},
     "output_type": "execute_result"
    }
   ],
   "source": [
    "detect_spoofing(trade_data)"
   ]
  },
  {
   "cell_type": "code",
   "execution_count": 96,
   "id": "4d0e026a-559c-401d-9953-d86719f26da9",
   "metadata": {},
   "outputs": [],
   "source": [
    "def run_surveillance(csv_path):\n",
    "    df = pd.read_csv(csv_path, parse_dates=[\"timestamp\"])\n",
    "    alerts = detect_spoofing(df)\n",
    "    return alerts"
   ]
  },
  {
   "cell_type": "code",
   "execution_count": 97,
   "id": "0e20e507-986a-4273-b2bf-0d9bf9c441b9",
   "metadata": {},
   "outputs": [
    {
     "data": {
      "text/plain": [
       "[{'trader_id': 'TR123',\n",
       "  'alert_type': 'spoofing detected',\n",
       "  'total_orders': 6,\n",
       "  'canceled_orders': 3,\n",
       "  'cancel_ratio': 0.5}]"
      ]
     },
     "execution_count": 97,
     "metadata": {},
     "output_type": "execute_result"
    }
   ],
   "source": [
    "run_surveillance('./trade_data.csv')"
   ]
  },
  {
   "cell_type": "markdown",
   "id": "f4551afc-6bf5-4251-afa2-f83e3cbefab5",
   "metadata": {},
   "source": [
    "----"
   ]
  }
 ],
 "metadata": {
  "kernelspec": {
   "display_name": "Python 3 (ipykernel)",
   "language": "python",
   "name": "python3"
  },
  "language_info": {
   "codemirror_mode": {
    "name": "ipython",
    "version": 3
   },
   "file_extension": ".py",
   "mimetype": "text/x-python",
   "name": "python",
   "nbconvert_exporter": "python",
   "pygments_lexer": "ipython3",
   "version": "3.9.6"
  }
 },
 "nbformat": 4,
 "nbformat_minor": 5
}
